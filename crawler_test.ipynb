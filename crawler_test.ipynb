{
 "cells": [
  {
   "cell_type": "code",
   "execution_count": 137,
   "metadata": {},
   "outputs": [],
   "source": [
    "from selenium import webdriver\n",
    "from selenium.webdriver.common.by import By\n",
    "import time\n",
    "import json\n",
    "import pandas as pd"
   ]
  },
  {
   "cell_type": "code",
   "execution_count": 41,
   "metadata": {},
   "outputs": [],
   "source": [
    "def get_website_driver(url):\n",
    "    driver = webdriver.Chrome()\n",
    "    driver.get(url)\n",
    "\n",
    "    return driver"
   ]
  },
  {
   "cell_type": "markdown",
   "metadata": {},
   "source": [
    "### 溯源農糧產品追溯系統-生產者資訊"
   ]
  },
  {
   "cell_type": "code",
   "execution_count": 40,
   "metadata": {},
   "outputs": [],
   "source": [
    "def get_search_result(driver, keyword):\n",
    "\n",
    "    element = driver.find_element(By.NAME, \"ByName\")\n",
    "    element.send_keys(keyword)\n",
    "\n",
    "    search_button = driver.find_element(By.ID, \"Search\")\n",
    "    search_button.click()\n",
    "    rows = driver.find_elements(By.XPATH, \"//tbody/tr\")\n",
    "\n",
    "    data = []\n",
    "    for row in rows[3:8]: \n",
    "        columns = row.find_elements(By.TAG_NAME, \"td\")\n",
    "        row_data = [col.text.strip() for col in columns] \n",
    "        data.append(row_data)\n",
    "        \n",
    "    return data"
   ]
  },
  {
   "cell_type": "code",
   "execution_count": 42,
   "metadata": {},
   "outputs": [],
   "source": [
    "driver = get_website_driver(url=\"https://qrc.afa.gov.tw/ProducerSearch\")"
   ]
  },
  {
   "cell_type": "code",
   "execution_count": 43,
   "metadata": {},
   "outputs": [],
   "source": [
    "result = get_search_result(driver, keyword='張志銘')"
   ]
  },
  {
   "cell_type": "code",
   "execution_count": 44,
   "metadata": {},
   "outputs": [
    {
     "data": {
      "text/plain": [
       "[['如欲顯示，請於查詢時輸入相應追溯編號', '張志銘', '荔枝', '臺中市西區', '0'],\n",
       " ['如欲顯示，請於查詢時輸入相應追溯編號', '張志銘', '金柑', '宜蘭縣頭城鎮', '19'],\n",
       " ['如欲顯示，請於查詢時輸入相應追溯編號', '張志銘-豆漿農場', '稉稻(白米或黑米)', '彰化縣芬園鄉', '23'],\n",
       " ['如欲顯示，請於查詢時輸入相應追溯編號 停用', '張志銘', '落花生', '雲林縣崙背鄉', '40'],\n",
       " ['如欲顯示，請於查詢時輸入相應追溯編號', '張志銘', '竹筍、鳳梨、甘藷(地瓜)', '新竹縣竹東鎮', '127']]"
      ]
     },
     "execution_count": 44,
     "metadata": {},
     "output_type": "execute_result"
    }
   ],
   "source": [
    "result"
   ]
  },
  {
   "cell_type": "code",
   "execution_count": 46,
   "metadata": {},
   "outputs": [],
   "source": [
    "coa_data = pd.read_csv('./data/crawler_test_data/COA_OpenData.csv')"
   ]
  },
  {
   "cell_type": "code",
   "execution_count": 51,
   "metadata": {},
   "outputs": [
    {
     "data": {
      "text/html": [
       "<div>\n",
       "<style scoped>\n",
       "    .dataframe tbody tr th:only-of-type {\n",
       "        vertical-align: middle;\n",
       "    }\n",
       "\n",
       "    .dataframe tbody tr th {\n",
       "        vertical-align: top;\n",
       "    }\n",
       "\n",
       "    .dataframe thead th {\n",
       "        text-align: right;\n",
       "    }\n",
       "</style>\n",
       "<table border=\"1\" class=\"dataframe\">\n",
       "  <thead>\n",
       "    <tr style=\"text-align: right;\">\n",
       "      <th></th>\n",
       "      <th>traceCode</th>\n",
       "      <th>producer</th>\n",
       "      <th>address</th>\n",
       "      <th>mark</th>\n",
       "      <th>url</th>\n",
       "      <th>description</th>\n",
       "      <th>status</th>\n",
       "      <th>modifyDate</th>\n",
       "    </tr>\n",
       "  </thead>\n",
       "  <tbody>\n",
       "    <tr>\n",
       "      <th>223</th>\n",
       "      <td>1201004566</td>\n",
       "      <td>張○銘</td>\n",
       "      <td>雲林縣大埤鄉</td>\n",
       "      <td>產銷履歷農產品</td>\n",
       "      <td>https://www.facebook.com/theblessingrice/</td>\n",
       "      <td>這是故事起源也是開始....一個從小沒有接觸過農業家庭的我，卻因為祖先的離去遺留下珍貴的農地...</td>\n",
       "      <td>通過</td>\n",
       "      <td>2025/01/14</td>\n",
       "    </tr>\n",
       "    <tr>\n",
       "      <th>1477</th>\n",
       "      <td>401007129</td>\n",
       "      <td>張○銘</td>\n",
       "      <td>臺中市東勢區</td>\n",
       "      <td>NaN</td>\n",
       "      <td>NaN</td>\n",
       "      <td>於東勢區種植苦茶，生產苦茶油，歡迎選購</td>\n",
       "      <td>通過</td>\n",
       "      <td>2024/10/15</td>\n",
       "    </tr>\n",
       "    <tr>\n",
       "      <th>4524</th>\n",
       "      <td>701001614</td>\n",
       "      <td>張○銘</td>\n",
       "      <td>宜蘭縣礁溪鄉</td>\n",
       "      <td>NaN</td>\n",
       "      <td>NaN</td>\n",
       "      <td>本人主要種植絲瓜為主，主要銷售為批發市場及自銷方式行銷慢慢建立自有品牌，還有生產絲瓜水及絲瓜...</td>\n",
       "      <td>通過</td>\n",
       "      <td>2024/07/29</td>\n",
       "    </tr>\n",
       "    <tr>\n",
       "      <th>9551</th>\n",
       "      <td>401004175</td>\n",
       "      <td>張○銘</td>\n",
       "      <td>臺中市北區</td>\n",
       "      <td>NaN</td>\n",
       "      <td>NaN</td>\n",
       "      <td>台中東勢區龍安橋附近，以自家也能安心食用為初衷。自家栽種未曾使用農藥及化肥。。山上有苦茶、枇...</td>\n",
       "      <td>通過</td>\n",
       "      <td>2024/05/17</td>\n",
       "    </tr>\n",
       "    <tr>\n",
       "      <th>9591</th>\n",
       "      <td>701002292</td>\n",
       "      <td>張○銘</td>\n",
       "      <td>宜蘭縣頭城鎮</td>\n",
       "      <td>NaN</td>\n",
       "      <td>NaN</td>\n",
       "      <td>生產高品質農作物</td>\n",
       "      <td>通過</td>\n",
       "      <td>2024/05/16</td>\n",
       "    </tr>\n",
       "    <tr>\n",
       "      <th>9878</th>\n",
       "      <td>1201008998</td>\n",
       "      <td>張○銘</td>\n",
       "      <td>雲林縣莿桐鄉</td>\n",
       "      <td>NaN</td>\n",
       "      <td>NaN</td>\n",
       "      <td>種植番茄.</td>\n",
       "      <td>通過</td>\n",
       "      <td>2024/05/08</td>\n",
       "    </tr>\n",
       "  </tbody>\n",
       "</table>\n",
       "</div>"
      ],
      "text/plain": [
       "       traceCode producer address     mark  \\\n",
       "223   1201004566      張○銘  雲林縣大埤鄉  產銷履歷農產品   \n",
       "1477   401007129      張○銘  臺中市東勢區      NaN   \n",
       "4524   701001614      張○銘  宜蘭縣礁溪鄉      NaN   \n",
       "9551   401004175      張○銘   臺中市北區      NaN   \n",
       "9591   701002292      張○銘  宜蘭縣頭城鎮      NaN   \n",
       "9878  1201008998      張○銘  雲林縣莿桐鄉      NaN   \n",
       "\n",
       "                                            url  \\\n",
       "223   https://www.facebook.com/theblessingrice/   \n",
       "1477                                        NaN   \n",
       "4524                                        NaN   \n",
       "9551                                        NaN   \n",
       "9591                                        NaN   \n",
       "9878                                        NaN   \n",
       "\n",
       "                                            description status  modifyDate  \n",
       "223   這是故事起源也是開始....一個從小沒有接觸過農業家庭的我，卻因為祖先的離去遺留下珍貴的農地...     通過  2025/01/14  \n",
       "1477                                於東勢區種植苦茶，生產苦茶油，歡迎選購     通過  2024/10/15  \n",
       "4524  本人主要種植絲瓜為主，主要銷售為批發市場及自銷方式行銷慢慢建立自有品牌，還有生產絲瓜水及絲瓜...     通過  2024/07/29  \n",
       "9551  台中東勢區龍安橋附近，以自家也能安心食用為初衷。自家栽種未曾使用農藥及化肥。。山上有苦茶、枇...     通過  2024/05/17  \n",
       "9591                                           生產高品質農作物     通過  2024/05/16  \n",
       "9878                                              種植番茄.     通過  2024/05/08  "
      ]
     },
     "execution_count": 51,
     "metadata": {},
     "output_type": "execute_result"
    }
   ],
   "source": [
    "coa_data[coa_data['producer'] == '張○銘']"
   ]
  },
  {
   "cell_type": "markdown",
   "metadata": {},
   "source": [
    "### Conclusion\n",
    "\n",
    "Not fit"
   ]
  },
  {
   "cell_type": "markdown",
   "metadata": {},
   "source": [
    "### 臺灣水產品生產追溯資訊"
   ]
  },
  {
   "cell_type": "code",
   "execution_count": 172,
   "metadata": {},
   "outputs": [],
   "source": [
    "def get_search_result(driver, keyword):\n",
    "\n",
    "    element = driver.find_element(By.ID, \"QuickSearchByKeyword\")\n",
    "    element.clear()\n",
    "    element.send_keys(keyword)\n",
    "\n",
    "    search_button = driver.find_element(By.ID, \"quick-search\")\n",
    "    search_button.click()\n",
    "\n",
    "    time.sleep(5)\n",
    "\n",
    "    # Find all result rows\n",
    "    rows = driver.find_elements(By.XPATH, \"//div[contains(@class, 'list-body')]\")\n",
    "\n",
    "\n",
    "    tracking_number = None\n",
    "    producer_name = None\n",
    "    for row in rows:\n",
    "        # Get the tracking number from the <div> with data-title=\"追溯編號\"\n",
    "        tracking_number_div = row.find_element(By.XPATH, \".//div[@data-title='追溯編號']\")\n",
    "        tracking_number = tracking_number_div.text.strip()\n",
    "\n",
    "        # Get the producer name from the <a> inside <div> with data-title=\"生產者/單位名稱\"\n",
    "        producer_name_a = row.find_element(By.XPATH, \".//div[@data-title='生產者/單位名稱']/a\")\n",
    "        producer_name = producer_name_a.text.strip()\n",
    "\n",
    "    return tracking_number, producer_name"
   ]
  },
  {
   "cell_type": "code",
   "execution_count": 173,
   "metadata": {},
   "outputs": [],
   "source": [
    "driver = get_website_driver(url=\"https://www.fishqrc.org.tw/\")\n",
    "tracking_number, producer_name = get_search_result(driver, '蔡家順')\n",
    "driver.quit()"
   ]
  },
  {
   "cell_type": "code",
   "execution_count": 167,
   "metadata": {},
   "outputs": [],
   "source": [
    "df_w_prod = pd.read_json('./data/crawler_test_data/w_producer.json.txt')\n",
    "df_w_prod['TraceNo'] = df_w_prod['TraceNo'].astype(str)"
   ]
  },
  {
   "cell_type": "code",
   "execution_count": 175,
   "metadata": {},
   "outputs": [
    {
     "data": {
      "text/html": [
       "<div>\n",
       "<style scoped>\n",
       "    .dataframe tbody tr th:only-of-type {\n",
       "        vertical-align: middle;\n",
       "    }\n",
       "\n",
       "    .dataframe tbody tr th {\n",
       "        vertical-align: top;\n",
       "    }\n",
       "\n",
       "    .dataframe thead th {\n",
       "        text-align: right;\n",
       "    }\n",
       "</style>\n",
       "<table border=\"1\" class=\"dataframe\">\n",
       "  <thead>\n",
       "    <tr style=\"text-align: right;\">\n",
       "      <th></th>\n",
       "      <th>TraceNo</th>\n",
       "      <th>AquaName</th>\n",
       "      <th>Addr</th>\n",
       "      <th>EMail</th>\n",
       "      <th>Url</th>\n",
       "      <th>ProdName</th>\n",
       "    </tr>\n",
       "  </thead>\n",
       "  <tbody>\n",
       "    <tr>\n",
       "      <th>7383</th>\n",
       "      <td>1311605501</td>\n",
       "      <td>蔡家順</td>\n",
       "      <td>嘉義縣布袋鎮</td>\n",
       "      <td></td>\n",
       "      <td></td>\n",
       "      <td>虱目魚、白蝦</td>\n",
       "    </tr>\n",
       "  </tbody>\n",
       "</table>\n",
       "</div>"
      ],
      "text/plain": [
       "         TraceNo AquaName    Addr EMail Url ProdName\n",
       "7383  1311605501      蔡家順  嘉義縣布袋鎮             虱目魚、白蝦"
      ]
     },
     "execution_count": 175,
     "metadata": {},
     "output_type": "execute_result"
    }
   ],
   "source": [
    "df_w_prod[(df_w_prod['TraceNo'] == tracking_number) & (df_w_prod['AquaName'] == producer_name)]"
   ]
  }
 ],
 "metadata": {
  "kernelspec": {
   "display_name": "kmp",
   "language": "python",
   "name": "python3"
  },
  "language_info": {
   "codemirror_mode": {
    "name": "ipython",
    "version": 3
   },
   "file_extension": ".py",
   "mimetype": "text/x-python",
   "name": "python",
   "nbconvert_exporter": "python",
   "pygments_lexer": "ipython3",
   "version": "3.10.15"
  }
 },
 "nbformat": 4,
 "nbformat_minor": 2
}
